{
 "cells": [
  {
   "cell_type": "code",
   "execution_count": 32,
   "metadata": {
    "collapsed": false
   },
   "outputs": [],
   "source": [
    "import spacy\n",
    "nlp = spacy.load('en_core_web_sm') # load en_core_web_lg if you want"
   ]
  },
  {
   "cell_type": "code",
   "execution_count": 40,
   "metadata": {
    "collapsed": false
   },
   "outputs": [
    {
     "name": "stdout",
     "output_type": "stream",
     "text": [
      "CARDINAL 100\n",
      "ORG Google $\n",
      "MONEY 1000\n",
      "[{u'CARDINAL': u'100', 'TYPE': 'long', u'MONEY': u'1000', u'ORG': u'Google $'}]\n"
     ]
    }
   ],
   "source": [
    "# input email content \n",
    "\n",
    "txt = u'I want to buy 100 shares of  Google $1000'\n",
    "\n",
    "doc = nlp(txt)\n",
    "\n",
    "\n",
    "for entity in doc.ents:\n",
    "    print entity.label_, entity.text\n",
    "\n",
    "keys = ['buy', 'sell', 'long', 'short' , 'hedge']\n",
    "intend = None\n",
    "\n",
    "for token in doc:\n",
    "    if (token.text.lower() in keys):  \n",
    "        intend = token.text\n",
    "        \n",
    "if intend == 'buy':\n",
    "    intend = 'long'\n",
    "if intend == 'sell':\n",
    "    intend = 'short'\n",
    "    \n",
    "count = 0\n",
    "dic_list = []\n",
    "\n",
    "for entity in doc.ents: \n",
    "    if (entity.label_ == 'ORG'):\n",
    "        count = count + 1 \n",
    "        dic_list.append({'TYPE': intend})\n",
    "    \n",
    "\n",
    "for entity in doc.ents:\n",
    "    for d in dic_list: \n",
    "        if entity.label_ not in d.keys():\n",
    "            if entity.label_ == 'ORG':\n",
    "                d[entity.label_] = entity.text  # Need ticker lookup \n",
    "            else: \n",
    "                d[entity.label_] = entity.text\n",
    "            break\n",
    "\n",
    "\n",
    "print dic_list"
   ]
  },
  {
   "cell_type": "code",
   "execution_count": 31,
   "metadata": {
    "collapsed": false
   },
   "outputs": [
    {
     "data": {
      "text/plain": [
       "0"
      ]
     },
     "execution_count": 31,
     "metadata": {},
     "output_type": "execute_result"
    }
   ],
   "source": [
    "count"
   ]
  },
  {
   "cell_type": "code",
   "execution_count": 91,
   "metadata": {
    "collapsed": false
   },
   "outputs": [],
   "source": [
    "if (entity.label_ == 'CARDINAL'):\n",
    "    \n",
    "    \n",
    "    print entity.text, entity.text\n",
    "    \n",
    "#         dic['quantity'] = entity.text\n",
    "#     if (entity.label == 'ORG'):\n",
    "#         dic['ticker'] = entity.text"
   ]
  },
  {
   "cell_type": "code",
   "execution_count": 92,
   "metadata": {
    "collapsed": false
   },
   "outputs": [
    {
     "name": "stdout",
     "output_type": "stream",
     "text": [
      "20 CARDINAL\n",
      "Apple ORG\n",
      "100.5 dollars MONEY\n"
     ]
    }
   ],
   "source": [
    "# we need to get the company name right. It is not a fruit, and we need to get the number right\n",
    "\n",
    "doc2 = nlp(u\"I would like to long 20 shares of Apple for price at 100.5 dollars.\")\n",
    "\n",
    "for entity in doc2.ents:\n",
    "    print entity.text, entity.label_"
   ]
  },
  {
   "cell_type": "code",
   "execution_count": 4,
   "metadata": {
    "collapsed": true
   },
   "outputs": [],
   "source": [
    "# we can go to yahoo finance or Athena to find the ticker and real price\n",
    "\n"
   ]
  },
  {
   "cell_type": "code",
   "execution_count": 9,
   "metadata": {
    "collapsed": false
   },
   "outputs": [
    {
     "name": "stdout",
     "output_type": "stream",
     "text": [
      "0.158609130016\n",
      "0.715056652277\n"
     ]
    }
   ],
   "source": [
    "\n",
    "# chatBot question / request / intend match \n",
    "buy_intend = nlp(u\"I would like to buy 20 shares of Apple stock\")\n",
    "\n",
    "\n",
    "qustion_1 = nlp(u\"How much is Apple today?\") \n",
    "qustion_2 = nlp(u\"Would you buy me 100 shares of IBM?\")\n",
    "\n",
    "print buy_intend.similarity(qustion_1)\n",
    "\n",
    "print buy_intend.similarity(qustion_2)"
   ]
  },
  {
   "cell_type": "code",
   "execution_count": null,
   "metadata": {
    "collapsed": true
   },
   "outputs": [],
   "source": []
  }
 ],
 "metadata": {
  "kernelspec": {
   "display_name": "Python 2",
   "language": "python",
   "name": "python2"
  },
  "language_info": {
   "codemirror_mode": {
    "name": "ipython",
    "version": 2
   },
   "file_extension": ".py",
   "mimetype": "text/x-python",
   "name": "python",
   "nbconvert_exporter": "python",
   "pygments_lexer": "ipython2",
   "version": "2.7.12"
  }
 },
 "nbformat": 4,
 "nbformat_minor": 1
}
